{
 "cells": [
  {
   "cell_type": "markdown",
   "metadata": {},
   "source": [
    "**Quick Sort: Divide & Conquer Algorithm**"
   ]
  },
  {
   "cell_type": "code",
   "execution_count": 24,
   "metadata": {},
   "outputs": [],
   "source": [
    "def partition(arr, low, high):\n",
    "    pivot = int(arr[low])\n",
    "    i = int(low)\n",
    "    j = int(high)\n",
    "    while i<j:\n",
    "\n",
    "        while arr[i] <= pivot and i <= high:\n",
    "            i += 1\n",
    "\n",
    "        while arr[j] > pivot and j >= low:\n",
    "            j -= 1\n",
    "        \n",
    "        if i < j:\n",
    "            temp = arr[i]\n",
    "            arr[i] = arr[j]\n",
    "            arr[j] = temp\n",
    "\n",
    "    #swapping pivot to the PIndex because if the while loop breaks that means\n",
    "    #that i and j have crossed and pIndex is found\n",
    "\n",
    "    temp1 = arr[low]\n",
    "    arr[low] = arr[j]\n",
    "    arr[j] = temp1\n",
    "    \n",
    "    print(j)\n",
    "\n",
    "    return j\n",
    "\n",
    "def quickSort(arr, low, high):\n",
    "    if low < high:\n",
    "        pIndex = int(partition(arr, low, high))\n",
    "        quickSort(arr, low, pIndex-1)\n",
    "        quickSort(arr, pIndex+1, high)\n",
    "\n",
    "    return arr"
   ]
  },
  {
   "cell_type": "code",
   "execution_count": 25,
   "metadata": {},
   "outputs": [
    {
     "name": "stdout",
     "output_type": "stream",
     "text": [
      "3\n",
      "0\n",
      "2\n",
      "6\n",
      "4\n"
     ]
    },
    {
     "data": {
      "text/plain": [
       "[1, 2, 3, 4, 5, 6, 7, 9]"
      ]
     },
     "execution_count": 25,
     "metadata": {},
     "output_type": "execute_result"
    }
   ],
   "source": [
    "quickSort([4, 3, 2, 5, 7, 9, 1, 6], 0, 7)"
   ]
  },
  {
   "cell_type": "code",
   "execution_count": null,
   "metadata": {},
   "outputs": [],
   "source": []
  }
 ],
 "metadata": {
  "kernelspec": {
   "display_name": "Python 3",
   "language": "python",
   "name": "python3"
  },
  "language_info": {
   "codemirror_mode": {
    "name": "ipython",
    "version": 3
   },
   "file_extension": ".py",
   "mimetype": "text/x-python",
   "name": "python",
   "nbconvert_exporter": "python",
   "pygments_lexer": "ipython3",
   "version": "3.12.5"
  }
 },
 "nbformat": 4,
 "nbformat_minor": 2
}

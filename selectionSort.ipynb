{
 "cells": [
  {
   "cell_type": "markdown",
   "metadata": {},
   "source": [
    "**Selection Sort**\n"
   ]
  },
  {
   "cell_type": "code",
   "execution_count": 18,
   "metadata": {},
   "outputs": [
    {
     "data": {
      "text/plain": [
       "[1, 3, 2, 5, 6, 4, 5, 3, 9, 10]"
      ]
     },
     "execution_count": 18,
     "metadata": {},
     "output_type": "execute_result"
    }
   ],
   "source": [
    "def selectionSort(arr, n):\n",
    "    for i in range(n-2):\n",
    "        mini = i\n",
    "        for j in range(i, n-1):\n",
    "            if arr[j] < arr[mini]:\n",
    "                mini = j\n",
    "                arr[i], arr[mini] = arr[mini], arr[i]    \n",
    "    return arr\n",
    "\n",
    "selectionSort([9, 3, 4, 6, 2 , 5, 1, 3, 5 ,10], 10)"
   ]
  },
  {
   "cell_type": "markdown",
   "metadata": {},
   "source": [
    "**Bubble Sort**"
   ]
  },
  {
   "cell_type": "code",
   "execution_count": 26,
   "metadata": {},
   "outputs": [
    {
     "name": "stdout",
     "output_type": "stream",
     "text": [
      "Ran\n",
      "Ran\n",
      "Ran\n",
      "Ran\n",
      "Ran\n",
      "Ran\n"
     ]
    },
    {
     "data": {
      "text/plain": [
       "[1, 2, 3, 3, 4, 5, 5, 6, 9, 10]"
      ]
     },
     "execution_count": 26,
     "metadata": {},
     "output_type": "execute_result"
    }
   ],
   "source": [
    "def bubbleSort(arr, n):\n",
    "    for i in range(n-1, 0, -1):\n",
    "        didswap = 0\n",
    "        for j in range(i-1):\n",
    "            if arr[j] > arr[j+1]:\n",
    "                temp = arr[j]\n",
    "                arr[j] = arr[j+1]\n",
    "                arr[j+1] = temp\n",
    "                didswap = 1\n",
    "        if didswap == 0:\n",
    "            break\n",
    "        print('Ran')\n",
    "    return arr\n",
    "\n",
    "bubbleSort([9, 3, 4, 6, 2 , 5, 1, 3, 5 ,10], 10)"
   ]
  },
  {
   "cell_type": "code",
   "execution_count": 24,
   "metadata": {},
   "outputs": [
    {
     "data": {
      "text/plain": [
       "[1, 2, 3, 4, 5, 6, 7, 8, 9, 10]"
      ]
     },
     "execution_count": 24,
     "metadata": {},
     "output_type": "execute_result"
    }
   ],
   "source": [
    "def bubbleSort(arr, n):\n",
    "    for i in range(n-1, 1, -1):\n",
    "        didswap = 0\n",
    "        for j in range(i-1):\n",
    "            if arr[j] > arr[j+1]:\n",
    "                temp = arr[j]\n",
    "                arr[j] = arr[j+1]\n",
    "                arr[j+1] = temp\n",
    "                didswap = 1\n",
    "        if didswap == 0:\n",
    "            break\n",
    "        print('Ran')\n",
    "    return arr\n",
    "\n",
    "bubbleSort([1, 2, 3, 4, 5, 6, 7, 8, 9, 10], 10)"
   ]
  },
  {
   "cell_type": "markdown",
   "metadata": {},
   "source": [
    "**Insertion Sort**"
   ]
  },
  {
   "cell_type": "code",
   "execution_count": 28,
   "metadata": {},
   "outputs": [
    {
     "name": "stdout",
     "output_type": "stream",
     "text": [
      "Ran\n",
      "Ran\n",
      "Ran\n",
      "Ran\n",
      "Ran\n",
      "Ran\n",
      "Ran\n",
      "Ran\n",
      "Ran\n",
      "Ran\n",
      "Ran\n",
      "Ran\n",
      "Ran\n",
      "Ran\n",
      "Ran\n",
      "Ran\n",
      "Ran\n",
      "Ran\n",
      "Ran\n",
      "Ran\n",
      "Ran\n"
     ]
    },
    {
     "data": {
      "text/plain": [
       "[1, 2, 3, 3, 4, 5, 5, 6, 9, 10]"
      ]
     },
     "execution_count": 28,
     "metadata": {},
     "output_type": "execute_result"
    }
   ],
   "source": [
    "def insertionSort(arr, n):\n",
    "    for i in range(n-1):\n",
    "        j = i\n",
    "        while j>0 and arr[j-1] > arr[j]:\n",
    "            arr[j-1], arr[j] = arr[j], arr[j-1]\n",
    "            j -= 1\n",
    "            print('Ran')\n",
    "\n",
    "    return arr\n",
    "\n",
    "insertionSort([9, 3, 4, 6, 2 , 5, 1, 3, 5 ,10], 10)"
   ]
  },
  {
   "cell_type": "code",
   "execution_count": 27,
   "metadata": {},
   "outputs": [
    {
     "data": {
      "text/plain": [
       "[1, 2, 3, 3, 4, 5, 5, 6, 9, 10]"
      ]
     },
     "execution_count": 27,
     "metadata": {},
     "output_type": "execute_result"
    }
   ],
   "source": [
    "def insertionSort(arr, n):\n",
    "    for i in range(n-1):\n",
    "        j = i\n",
    "        while j>0 and arr[j-1] > arr[j]:\n",
    "            arr[j-1], arr[j] = arr[j], arr[j-1]\n",
    "            j -= 1\n",
    "            print(\"Ran\")\n",
    "\n",
    "    return arr\n",
    "\n",
    "insertionSort([1, 2, 3, 3, 4, 5, 5, 6, 9, 10], 10)"
   ]
  }
 ],
 "metadata": {
  "kernelspec": {
   "display_name": "Python 3",
   "language": "python",
   "name": "python3"
  },
  "language_info": {
   "codemirror_mode": {
    "name": "ipython",
    "version": 3
   },
   "file_extension": ".py",
   "mimetype": "text/x-python",
   "name": "python",
   "nbconvert_exporter": "python",
   "pygments_lexer": "ipython3",
   "version": "3.12.5"
  }
 },
 "nbformat": 4,
 "nbformat_minor": 2
}

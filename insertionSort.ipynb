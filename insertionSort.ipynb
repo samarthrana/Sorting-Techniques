{
 "cells": [
  {
   "cell_type": "markdown",
   "metadata": {},
   "source": [
    "**Insertion Sort**"
   ]
  },
  {
   "cell_type": "code",
   "execution_count": 1,
   "metadata": {},
   "outputs": [
    {
     "name": "stdout",
     "output_type": "stream",
     "text": [
      "Ran\n",
      "Ran\n",
      "Ran\n",
      "Ran\n",
      "Ran\n",
      "Ran\n",
      "Ran\n",
      "Ran\n",
      "Ran\n",
      "Ran\n",
      "Ran\n",
      "Ran\n",
      "Ran\n",
      "Ran\n",
      "Ran\n",
      "Ran\n",
      "Ran\n",
      "Ran\n",
      "Ran\n",
      "Ran\n",
      "Ran\n"
     ]
    },
    {
     "data": {
      "text/plain": [
       "[1, 2, 3, 3, 4, 5, 5, 6, 9, 10]"
      ]
     },
     "execution_count": 1,
     "metadata": {},
     "output_type": "execute_result"
    }
   ],
   "source": [
    "def insertionSort(arr, n):\n",
    "    for i in range(n-1):\n",
    "        j = i\n",
    "        while j>0 and arr[j-1] > arr[j]:\n",
    "            arr[j-1], arr[j] = arr[j], arr[j-1]\n",
    "            j -= 1\n",
    "            print('Ran')\n",
    "\n",
    "    return arr\n",
    "\n",
    "insertionSort([9, 3, 4, 6, 2 , 5, 1, 3, 5 ,10], 10)"
   ]
  },
  {
   "cell_type": "markdown",
   "metadata": {},
   "source": [
    "**Optimizing**"
   ]
  },
  {
   "cell_type": "code",
   "execution_count": 2,
   "metadata": {},
   "outputs": [
    {
     "data": {
      "text/plain": [
       "[1, 2, 3, 3, 4, 5, 5, 6, 9, 10]"
      ]
     },
     "execution_count": 2,
     "metadata": {},
     "output_type": "execute_result"
    }
   ],
   "source": [
    "def insertionSort(arr, n):\n",
    "    for i in range(n-1):\n",
    "        j = i\n",
    "        while j>0 and arr[j-1] > arr[j]:\n",
    "            arr[j-1], arr[j] = arr[j], arr[j-1]\n",
    "            j -= 1\n",
    "            print(\"Ran\")\n",
    "\n",
    "    return arr\n",
    "\n",
    "insertionSort([1, 2, 3, 3, 4, 5, 5, 6, 9, 10], 10)"
   ]
  },
  {
   "cell_type": "code",
   "execution_count": null,
   "metadata": {},
   "outputs": [],
   "source": []
  }
 ],
 "metadata": {
  "kernelspec": {
   "display_name": "Python 3",
   "language": "python",
   "name": "python3"
  },
  "language_info": {
   "codemirror_mode": {
    "name": "ipython",
    "version": 3
   },
   "file_extension": ".py",
   "mimetype": "text/x-python",
   "name": "python",
   "nbconvert_exporter": "python",
   "pygments_lexer": "ipython3",
   "version": "3.12.5"
  }
 },
 "nbformat": 4,
 "nbformat_minor": 2
}
